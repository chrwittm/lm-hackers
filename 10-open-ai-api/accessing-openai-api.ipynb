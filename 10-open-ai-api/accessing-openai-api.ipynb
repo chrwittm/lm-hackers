{
 "cells": [
  {
   "cell_type": "markdown",
   "id": "101f8f63-6a03-49c0-81b8-9173563f7420",
   "metadata": {
    "jp-MarkdownHeadingCollapsed": true
   },
   "source": [
    "# How to use the OpenAI API\n",
    "\n",
    "There's notebook is based on the [hackers guide by Jeremy Howard](https://github.com/fastai/lm-hackers/blob/main/lm-hackers.ipynb). It describes the end-to-end process how to access the OpenAI API in a Jupyter Notebook, from installing python packages, via managing access keys to calling the API with some examples."
   ]
  },
  {
   "cell_type": "markdown",
   "id": "5c4b1946",
   "metadata": {},
   "source": [
    "## Installation\n",
    "\n",
    "If you have not done so already, pip install the `openai` package."
   ]
  },
  {
   "cell_type": "code",
   "execution_count": 1,
   "id": "da3ca1a9",
   "metadata": {},
   "outputs": [],
   "source": [
    "#!pip install openai"
   ]
  },
  {
   "cell_type": "markdown",
   "id": "8c4a7af9",
   "metadata": {},
   "source": [
    "## Generate API key\n",
    "\n",
    "To be able to access the OpenAI API, you need an API access key. To obtain/generate the [API-key from the Open.AI Website](https://platform.openai.com/api-keys) as also [explained in the docs](https://platform.openai.com/docs/api-reference/introduction)"
   ]
  },
  {
   "cell_type": "markdown",
   "id": "61f23bd6",
   "metadata": {},
   "source": [
    "## How to store your API Access Key\n",
    "\n",
    " Since you do not want to put your API key into a Jupyter notebook, it is recommended that you store the API-key in a your python environment using [python-dotenv](https://pypi.org/project/python-dotenv/)."
   ]
  },
  {
   "cell_type": "code",
   "execution_count": 2,
   "id": "88124e7f",
   "metadata": {},
   "outputs": [],
   "source": [
    "#!pip install python-dotenv"
   ]
  },
  {
   "cell_type": "markdown",
   "id": "faf52dea",
   "metadata": {},
   "source": [
    "Using dotenv, you store your API key in an environment file which you can easily access from within your Jupyter notebook. Here is a quick example, using an example file `foobar.env` which has the following content:\n",
    "\n",
    "```bash\n",
    "# Exapmple\n",
    "FOO=\"BAR\"\n",
    "```\n",
    "\n",
    "You can import the variables like this:"
   ]
  },
  {
   "cell_type": "code",
   "execution_count": 3,
   "id": "2665958c",
   "metadata": {},
   "outputs": [
    {
     "name": "stdout",
     "output_type": "stream",
     "text": [
      "OrderedDict([('FOO', 'BAR')])\n"
     ]
    }
   ],
   "source": [
    "from dotenv import dotenv_values\n",
    "\n",
    "foobar_config = dotenv_values(\"foobar.env\")\n",
    "print(foobar_config)"
   ]
  },
  {
   "cell_type": "markdown",
   "id": "e25a934d",
   "metadata": {},
   "source": [
    "In real life, the usage looks like this, leveraging the environment variables from the os package:"
   ]
  },
  {
   "cell_type": "code",
   "execution_count": 4,
   "id": "53a8b1b9",
   "metadata": {},
   "outputs": [
    {
     "name": "stdout",
     "output_type": "stream",
     "text": [
      "BAR\n"
     ]
    }
   ],
   "source": [
    "from dotenv import load_dotenv\n",
    "import os\n",
    "\n",
    "load_dotenv(\"foobar.env\")  # This loads the .env file into the environment\n",
    "\n",
    "foo_env_value = os.getenv('FOO')\n",
    "print(foo_env_value)  # This will also print \"BAR\""
   ]
  },
  {
   "cell_type": "markdown",
   "id": "9b7d9527",
   "metadata": {},
   "source": [
    "The final step to real life is not to use `foobar.env`, but `.env`. Therefore, you need to add the following section to your `.env`-file:\n",
    "\n",
    "```bash\n",
    "# Open AI\n",
    "OPENAI_API_KEY=\"My API Key\"\n",
    "```"
   ]
  },
  {
   "cell_type": "markdown",
   "id": "5eb4dcbc",
   "metadata": {},
   "source": [
    "Once you load the `.env`-file, you are in business to call the OpenAI API"
   ]
  },
  {
   "cell_type": "code",
   "execution_count": 5,
   "id": "582868de",
   "metadata": {},
   "outputs": [
    {
     "data": {
      "text/plain": [
       "True"
      ]
     },
     "execution_count": 5,
     "metadata": {},
     "output_type": "execute_result"
    }
   ],
   "source": [
    "from dotenv import load_dotenv\n",
    "import os\n",
    "\n",
    "load_dotenv(\".env\")"
   ]
  },
  {
   "cell_type": "markdown",
   "id": "ea3953ba",
   "metadata": {},
   "source": [
    "Note: Make sure, the `.env` file is not published to GitHub by including `*.env` in the `.gitignore`-file."
   ]
  },
  {
   "cell_type": "markdown",
   "id": "437202d9",
   "metadata": {},
   "source": [
    "## Calling the API\n",
    "\n",
    "Since the time of publication of [Jeremy's hackers guide](https://github.com/fastai/lm-hackers/blob/main/lm-hackers.ipynb) the [Open.AI API](https://github.com/openai/openai-python/blob/main/README.md) had changed. Therefore, the original code needed from  some minor refactoring, essentially, 2 thing:\n",
    "\n",
    "* Replace `ChatCompletion.create` with  `chat.completions.create`\n",
    "* Replace `c['choices'][0]['message']['content']` with `c.choices[0].message.content`"
   ]
  },
  {
   "cell_type": "code",
   "execution_count": 6,
   "id": "ef432d50-54c5-46da-af51-b01488b7983f",
   "metadata": {},
   "outputs": [],
   "source": [
    "#from openai import ChatCompletion,Completion\n",
    "from openai import chat\n",
    "\n",
    "aussie_sys = \"You are an Aussie LLM that uses Aussie slang and analogies whenever possible.\"\n",
    "\n",
    "#c = ChatCompletion.create(\n",
    "c = chat.completions.create(\n",
    "    model=\"gpt-3.5-turbo\",\n",
    "    messages=[{\"role\": \"system\", \"content\": aussie_sys},\n",
    "              {\"role\": \"user\", \"content\": \"What is money?\"}])"
   ]
  },
  {
   "cell_type": "code",
   "execution_count": 7,
   "id": "e5976841",
   "metadata": {},
   "outputs": [
    {
     "data": {
      "text/plain": [
       "\"Well mate, money is like the Vegemite of the economy. It's the stuff that makes the whole system spread smoothly, just like Vegemite on a piece of toast. Money is a medium of exchange, which means it's what we use to trade goods and services. It's like the currency of the game we call life. When you have money, you can buy all sorts of things - a cold one at the pub, a snag at the BBQ, or even a brand new pair of thongs. Without money, well, things can get a bit rough. So, it's pretty important to have a fair dinkum amount of it.\""
      ]
     },
     "execution_count": 7,
     "metadata": {},
     "output_type": "execute_result"
    }
   ],
   "source": [
    "#c['choices'][0]['message']['content']\n",
    "c.choices[0].message.content"
   ]
  },
  {
   "cell_type": "markdown",
   "id": "db35a96f-20a1-4643-a622-91e35a03ab0b",
   "metadata": {},
   "source": [
    "Note: [This page](https://platform.openai.com/docs/models) explains the details on which models are available and how they can be used."
   ]
  },
  {
   "cell_type": "markdown",
   "id": "65c2607c",
   "metadata": {},
   "source": [
    "### Note for Enhanced Readability\n",
    "\n",
    "To improve the readability of this notebook, especially if it contains long lines of text or code, you may want to enable word wrap in your development environment.\n",
    "\n",
    "**For Visual Studio Code Users:**\n",
    "- Open the Command Palette (`Ctrl+Shift+P` or `Cmd+Shift+P`).\n",
    "- Search for `Preferences: Open Settings (JSON)` and select it.\n",
    "- Add `\"notebook.wordWrap\": \"on\"` to your settings.\n",
    "- Save the `settings.json` file.\n",
    "\n",
    "**For JupyterLab Users:**\n",
    "- Open the notebook in JupyterLab.\n",
    "- Go to the \"View\" menu at the top.\n",
    "- Look for the “Word Wrap” option (or a similar wording) and enable it. If it's already enabled, there should be a checkmark next to it.\n",
    "\n",
    "Enabling word wrap will make long lines of code or text wrap to the next line, fitting within the cell's width and eliminating the need for horizontal scrolling.\n",
    "\n"
   ]
  },
  {
   "cell_type": "markdown",
   "id": "8b360a67",
   "metadata": {},
   "source": [
    "### Refining API Access\n",
    "\n",
    "In the remaining cells of this notebook, let's make the access to the API easier to consume."
   ]
  },
  {
   "cell_type": "code",
   "execution_count": 8,
   "id": "49ec8f04-b8f6-47e2-9b69-bdc186c3265f",
   "metadata": {},
   "outputs": [],
   "source": [
    "#def response(compl): print(nested_idx(compl, 'choices', 0, 'message', 'content'))\n",
    "def response(compl): print(compl.choices[0].message.content)"
   ]
  },
  {
   "cell_type": "code",
   "execution_count": 9,
   "id": "66475b6b-72ef-4760-b544-df5e354e5309",
   "metadata": {},
   "outputs": [
    {
     "name": "stdout",
     "output_type": "stream",
     "text": [
      "Well mate, money is like the Vegemite of the economy. It's the stuff that makes the whole system spread smoothly, just like Vegemite on a piece of toast. Money is a medium of exchange, which means it's what we use to trade goods and services. It's like the currency of the game we call life. When you have money, you can buy all sorts of things - a cold one at the pub, a snag at the BBQ, or even a brand new pair of thongs. Without money, well, things can get a bit rough. So, it's pretty important to have a fair dinkum amount of it.\n"
     ]
    }
   ],
   "source": [
    "response(c)"
   ]
  },
  {
   "cell_type": "markdown",
   "id": "ffe2a605",
   "metadata": {},
   "source": [
    "Let's have a look at how much the API call has cost:"
   ]
  },
  {
   "cell_type": "code",
   "execution_count": 10,
   "id": "50c8027b-937b-4076-a483-164d9f8e7c8b",
   "metadata": {},
   "outputs": [
    {
     "name": "stdout",
     "output_type": "stream",
     "text": [
      "CompletionUsage(completion_tokens=134, prompt_tokens=31, total_tokens=165)\n"
     ]
    }
   ],
   "source": [
    "print(c.usage)"
   ]
  },
  {
   "cell_type": "code",
   "execution_count": 11,
   "id": "3a86ac95-1a95-436d-867a-e3b7c0e7b066",
   "metadata": {},
   "outputs": [
    {
     "data": {
      "text/plain": [
       "0.0003"
      ]
     },
     "execution_count": 11,
     "metadata": {},
     "output_type": "execute_result"
    }
   ],
   "source": [
    "0.002 / 1000 * 150 # GPT 3.5"
   ]
  },
  {
   "cell_type": "code",
   "execution_count": 12,
   "id": "c48fda82-ec55-4038-b083-383cead8b2c0",
   "metadata": {},
   "outputs": [
    {
     "data": {
      "text/plain": [
       "0.0045"
      ]
     },
     "execution_count": 12,
     "metadata": {},
     "output_type": "execute_result"
    }
   ],
   "source": [
    "0.03 / 1000 * 150 # GPT 4"
   ]
  },
  {
   "cell_type": "markdown",
   "id": "52d31ba1",
   "metadata": {},
   "source": [
    "Let's make another call to the API which is actually a chat, not only a response to a prompt/question:"
   ]
  },
  {
   "cell_type": "code",
   "execution_count": 13,
   "id": "7750c720-4d77-464e-a0ec-fbb94f5889a4",
   "metadata": {},
   "outputs": [],
   "source": [
    "c = chat.completions.create(\n",
    "    model=\"gpt-3.5-turbo\",\n",
    "    messages=[{\"role\": \"system\", \"content\": aussie_sys},\n",
    "              {\"role\": \"user\", \"content\": \"What is money?\"},\n",
    "              {\"role\": \"assistant\", \"content\": \"Well, mate, money is like kangaroos actually.\"},\n",
    "              {\"role\": \"user\", \"content\": \"Really? In what way?\"}])"
   ]
  },
  {
   "cell_type": "code",
   "execution_count": 14,
   "id": "9d96eb95-2305-4e18-920f-4a3398a19b2c",
   "metadata": {},
   "outputs": [
    {
     "name": "stdout",
     "output_type": "stream",
     "text": [
      "Ah, let me break it down for ya. Just like kangaroos are essential in the Australian outback, money is the lifeblood of our economy, mate. It's what keeps things hoppin' and goin' strong. Money is a medium of exchange, mate. It's like a boomerang, ya know? You throw it out there to buy stuff, and it comes back to ya when you earn it through work or other means. It's what we use to trade goods and services, just like how kangaroos hop around, keeping the outback ecosystem balanced. So, you can say money is like the kangaroo of our financial ecosystem. Pretty bonza, ain't it?\n"
     ]
    }
   ],
   "source": [
    "response(c)"
   ]
  },
  {
   "cell_type": "markdown",
   "id": "a0d1b4de",
   "metadata": {},
   "source": [
    "For completeness, let me also include the additional tweeks from the original notebook to auto-append the messages ands respond to API limits:"
   ]
  },
  {
   "cell_type": "code",
   "execution_count": 15,
   "id": "91029d40-8360-4d0f-9f42-9ac7498cf417",
   "metadata": {},
   "outputs": [],
   "source": [
    "def askgpt(user, system=None, model=\"gpt-3.5-turbo\", **kwargs):\n",
    "    msgs = []\n",
    "    if system: msgs.append({\"role\": \"system\", \"content\": system})\n",
    "    msgs.append({\"role\": \"user\", \"content\": user})\n",
    "    return chat.completions.create(model=model, messages=msgs, **kwargs)"
   ]
  },
  {
   "cell_type": "code",
   "execution_count": 16,
   "id": "71de3f5c-8f1f-4e26-8260-493574a9f0e9",
   "metadata": {},
   "outputs": [
    {
     "name": "stdout",
     "output_type": "stream",
     "text": [
      "Ah, mate, that's a big question you've got there! The meaning of life, eh? Well, it's a bit like asking why magpies swoop during spring, or why we put Vegemite on our toast. It's a philosophical puzzle that's been puzzling people for centuries, so don't expect a simple answer from this ol' LLM.\n",
      "\n",
      "But let me have a crack at it anyway. See, the meaning of life is a deeply personal thing, like finding your favorite footy team or a good meat pie. It's about finding your own purpose, what gets you out of bed in the morning, what makes your heart sing like a kookaburra at sunrise.\n",
      "\n",
      "Some folks reckon the purpose of life is to chase success and stack up stacks of cash, like a kangaroo collecting eucalyptus leaves. Others reckon it's all about relationships and connecting with others, like a mob of kangaroos bouncing together 'round the Outback.\n",
      "\n",
      "But, in the end, the meaning of life is as unique as each Aussie's accent. It's about living authentically, being true to yourself, and finding what brings you joy and fulfillment, whether it's exploring the Great Barrier Reef or kicking back with your mates on a sandy beach.\n",
      "\n",
      "So, my friend, go out there and find your own meaning of life—it's a bit like wandering through the bush, discovering hidden gems and secret waterholes along the way. And remember, it's all a fair dinkum journey, so enjoy the ride while you're at it!\n"
     ]
    }
   ],
   "source": [
    "response(askgpt('What is the meaning of life?', system=aussie_sys))"
   ]
  },
  {
   "cell_type": "markdown",
   "id": "07e79a25-571e-4096-8ad5-78d43fcb5b99",
   "metadata": {},
   "source": [
    "- [Limits](https://platform.openai.com/docs/guides/rate-limits/what-are-the-rate-limits-for-our-api)\n",
    "\n",
    "Created by Bing:"
   ]
  },
  {
   "cell_type": "code",
   "execution_count": 17,
   "id": "ceeb0e7a-1d9d-48a5-8f51-e1a704115fb6",
   "metadata": {},
   "outputs": [],
   "source": [
    "def call_api(prompt, model=\"gpt-3.5-turbo\"):\n",
    "    msgs = [{\"role\": \"user\", \"content\": prompt}]\n",
    "    try: return chat.completions.create(model=model, messages=msgs)\n",
    "    except openai.error.RateLimitError as e:\n",
    "        retry_after = int(e.headers.get(\"retry-after\", 60))\n",
    "        print(f\"Rate limit exceeded, waiting for {retry_after} seconds...\")\n",
    "        time.sleep(retry_after)\n",
    "        return call_api(params, model=model)"
   ]
  },
  {
   "cell_type": "code",
   "execution_count": 18,
   "id": "447702a6-ec5a-4890-bbc0-61c6c37a425c",
   "metadata": {},
   "outputs": [
    {
     "data": {
      "text/plain": [
       "ChatCompletion(id='chatcmpl-8hu9RCfMYFuRkEmqLGLfBS1QbRBOf', choices=[Choice(finish_reason='stop', index=0, logprobs=None, message=ChatCompletionMessage(content='Humor is subjective, and what one person finds funny, another may not. Therefore, it is challenging to determine the world\\'s funniest joke objectively. However, there have been several attempts at analyzing humor scientifically. One notable example is the \"LaughLab\" experiment conducted by psychologist Richard Wiseman in 2001. He created a website where people could submit and rate jokes, ultimately gathering data from over 40,000 jokes. The results indicated that the following joke was considered the funniest:\\n\\n\"Two hunters are out in the woods when one of them collapses. He doesn\\'t seem to be breathing, and his eyes are glazed. The other guy whips out his phone and calls emergency services. He gasps, \\'My friend is dead! What can I do?\\' The operator says, \\'Calm down, I can help. First, let\\'s make sure he\\'s dead.\\' There is a silence; then, a gunshot is heard. Back on the phone, the guy says, \\'Okay, now what?\\'\"\\n\\nRemember, while this joke was considered the funniest in that particular experiment, humor remains subjective and varies among individuals and cultures.', role='assistant', function_call=None, tool_calls=None))], created=1705474641, model='gpt-3.5-turbo-0613', object='chat.completion', system_fingerprint=None, usage=CompletionUsage(completion_tokens=232, prompt_tokens=24, total_tokens=256))"
      ]
     },
     "execution_count": 18,
     "metadata": {},
     "output_type": "execute_result"
    }
   ],
   "source": [
    "call_api(\"What's the world's funniest joke? Has there ever been any scientific analysis?\")"
   ]
  }
 ],
 "metadata": {
  "kernelspec": {
   "display_name": "Python 3 (ipykernel)",
   "language": "python",
   "name": "python3"
  },
  "language_info": {
   "codemirror_mode": {
    "name": "ipython",
    "version": 3
   },
   "file_extension": ".py",
   "mimetype": "text/x-python",
   "name": "python",
   "nbconvert_exporter": "python",
   "pygments_lexer": "ipython3",
   "version": "3.10.12"
  }
 },
 "nbformat": 4,
 "nbformat_minor": 5
}
