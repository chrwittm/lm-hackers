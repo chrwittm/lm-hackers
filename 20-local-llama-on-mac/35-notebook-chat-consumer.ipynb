{
 "cells": [
  {
   "cell_type": "markdown",
   "id": "1b7c7e1d-ad0c-4668-a10d-569ba6b7aa04",
   "metadata": {
    "jp-MarkdownHeadingCollapsed": true
   },
   "source": [
    "# Using Notebook Chat\n",
    "\n",
    "The goal of this notebook is to demonstrate how we can reuse the notebook chat developed in [this notebook](./30-notebook-chat.ipynb)"
   ]
  },
  {
   "cell_type": "code",
   "execution_count": 1,
   "id": "9cde8ae8",
   "metadata": {},
   "outputs": [],
   "source": [
    "import sys\n",
    "sys.path.append('../notebook_chat')\n",
    "\n",
    "from notebook_chat import ChatMessages, Llama2ChatVersion2"
   ]
  },
  {
   "cell_type": "markdown",
   "id": "3f406077",
   "metadata": {},
   "source": [
    "## Loading the Model\n",
    "\n",
    "Loading the model, only required 2 lines of code (see below). Before we execute the cell, let's talk about the paramteres:\n",
    "\n",
    "- `n_ctx=2048`: This sets the context window to 2048 tokens. The maximum number of tokens for this model is 4096.\n",
    "- `verbose=False`: This makes the model less talkative. It only prints the actual results when prompted. Please try turning it to `True` to see the result."
   ]
  },
  {
   "cell_type": "code",
   "execution_count": 2,
   "id": "6f33831f-8c71-47dc-a131-9a6733d68198",
   "metadata": {},
   "outputs": [
    {
     "name": "stderr",
     "output_type": "stream",
     "text": [
      "llama_model_loader: loaded meta data with 19 key-value pairs and 291 tensors from ../models/Llama-2-7b-chat/llama-2-7b-chat.Q4_K_M.gguf (version GGUF V2)\n",
      "llama_model_loader: Dumping metadata keys/values. Note: KV overrides do not apply in this output.\n",
      "llama_model_loader: - kv   0:                       general.architecture str              = llama\n",
      "llama_model_loader: - kv   1:                               general.name str              = LLaMA v2\n",
      "llama_model_loader: - kv   2:                       llama.context_length u32              = 4096\n",
      "llama_model_loader: - kv   3:                     llama.embedding_length u32              = 4096\n",
      "llama_model_loader: - kv   4:                          llama.block_count u32              = 32\n",
      "llama_model_loader: - kv   5:                  llama.feed_forward_length u32              = 11008\n",
      "llama_model_loader: - kv   6:                 llama.rope.dimension_count u32              = 128\n",
      "llama_model_loader: - kv   7:                 llama.attention.head_count u32              = 32\n",
      "llama_model_loader: - kv   8:              llama.attention.head_count_kv u32              = 32\n",
      "llama_model_loader: - kv   9:     llama.attention.layer_norm_rms_epsilon f32              = 0.000001\n",
      "llama_model_loader: - kv  10:                          general.file_type u32              = 15\n",
      "llama_model_loader: - kv  11:                       tokenizer.ggml.model str              = llama\n",
      "llama_model_loader: - kv  12:                      tokenizer.ggml.tokens arr[str,32000]   = [\"<unk>\", \"<s>\", \"</s>\", \"<0x00>\", \"<...\n",
      "llama_model_loader: - kv  13:                      tokenizer.ggml.scores arr[f32,32000]   = [0.000000, 0.000000, 0.000000, 0.0000...\n",
      "llama_model_loader: - kv  14:                  tokenizer.ggml.token_type arr[i32,32000]   = [2, 3, 3, 6, 6, 6, 6, 6, 6, 6, 6, 6, ...\n",
      "llama_model_loader: - kv  15:                tokenizer.ggml.bos_token_id u32              = 1\n",
      "llama_model_loader: - kv  16:                tokenizer.ggml.eos_token_id u32              = 2\n",
      "llama_model_loader: - kv  17:            tokenizer.ggml.unknown_token_id u32              = 0\n",
      "llama_model_loader: - kv  18:               general.quantization_version u32              = 2\n",
      "llama_model_loader: - type  f32:   65 tensors\n",
      "llama_model_loader: - type q4_K:  193 tensors\n",
      "llama_model_loader: - type q6_K:   33 tensors\n",
      "llm_load_vocab: special tokens definition check successful ( 259/32000 ).\n",
      "llm_load_print_meta: format           = GGUF V2\n",
      "llm_load_print_meta: arch             = llama\n",
      "llm_load_print_meta: vocab type       = SPM\n",
      "llm_load_print_meta: n_vocab          = 32000\n",
      "llm_load_print_meta: n_merges         = 0\n",
      "llm_load_print_meta: n_ctx_train      = 4096\n",
      "llm_load_print_meta: n_embd           = 4096\n",
      "llm_load_print_meta: n_head           = 32\n",
      "llm_load_print_meta: n_head_kv        = 32\n",
      "llm_load_print_meta: n_layer          = 32\n",
      "llm_load_print_meta: n_rot            = 128\n",
      "llm_load_print_meta: n_embd_head_k    = 128\n",
      "llm_load_print_meta: n_embd_head_v    = 128\n",
      "llm_load_print_meta: n_gqa            = 1\n",
      "llm_load_print_meta: n_embd_k_gqa     = 4096\n",
      "llm_load_print_meta: n_embd_v_gqa     = 4096\n",
      "llm_load_print_meta: f_norm_eps       = 0.0e+00\n",
      "llm_load_print_meta: f_norm_rms_eps   = 1.0e-06\n",
      "llm_load_print_meta: f_clamp_kqv      = 0.0e+00\n",
      "llm_load_print_meta: f_max_alibi_bias = 0.0e+00\n",
      "llm_load_print_meta: n_ff             = 11008\n",
      "llm_load_print_meta: n_expert         = 0\n",
      "llm_load_print_meta: n_expert_used    = 0\n",
      "llm_load_print_meta: rope scaling     = linear\n",
      "llm_load_print_meta: freq_base_train  = 10000.0\n",
      "llm_load_print_meta: freq_scale_train = 1\n",
      "llm_load_print_meta: n_yarn_orig_ctx  = 4096\n",
      "llm_load_print_meta: rope_finetuned   = unknown\n",
      "llm_load_print_meta: model type       = 7B\n",
      "llm_load_print_meta: model ftype      = Q4_K - Medium\n",
      "llm_load_print_meta: model params     = 6.74 B\n",
      "llm_load_print_meta: model size       = 3.80 GiB (4.84 BPW) \n",
      "llm_load_print_meta: general.name     = LLaMA v2\n",
      "llm_load_print_meta: BOS token        = 1 '<s>'\n",
      "llm_load_print_meta: EOS token        = 2 '</s>'\n",
      "llm_load_print_meta: UNK token        = 0 '<unk>'\n",
      "llm_load_print_meta: LF token         = 13 '<0x0A>'\n",
      "llm_load_tensors: ggml ctx size =    0.11 MiB\n",
      "llm_load_tensors: offloading 0 repeating layers to GPU\n",
      "llm_load_tensors: offloaded 0/33 layers to GPU\n",
      "llm_load_tensors:        CPU buffer size =  3891.24 MiB\n",
      "..................................................................................................\n",
      "llama_new_context_with_model: n_ctx      = 2048\n",
      "llama_new_context_with_model: freq_base  = 10000.0\n",
      "llama_new_context_with_model: freq_scale = 1\n",
      "llama_kv_cache_init:        CPU KV buffer size =  1024.00 MiB\n",
      "llama_new_context_with_model: KV self size  = 1024.00 MiB, K (f16):  512.00 MiB, V (f16):  512.00 MiB\n",
      "llama_new_context_with_model: graph splits (measure): 1\n",
      "llama_new_context_with_model:        CPU compute buffer size =   156.00 MiB\n"
     ]
    }
   ],
   "source": [
    "from llama_cpp import Llama\n",
    "llm = Llama(model_path=\"../models/Llama-2-7b-chat/llama-2-7b-chat.Q4_K_M.gguf\", n_ctx=2048, verbose=False)"
   ]
  },
  {
   "cell_type": "markdown",
   "id": "16b50eeb",
   "metadata": {},
   "source": [
    "## Testing Chat Messages Class\n",
    "\n",
    "Let's do a quick test of the `ChatMessages`-class."
   ]
  },
  {
   "cell_type": "code",
   "execution_count": 3,
   "id": "1ef86ebe",
   "metadata": {},
   "outputs": [
    {
     "data": {
      "text/plain": [
       "[{'role': 'system', 'content': 'Test for system message'},\n",
       " {'role': 'user', 'content': 'Test for user message'},\n",
       " {'role': 'assistant', 'content': 'Test for assistant message'}]"
      ]
     },
     "execution_count": 3,
     "metadata": {},
     "output_type": "execute_result"
    }
   ],
   "source": [
    "chat_messages = ChatMessages()\n",
    "chat_messages.append_system_message(\"Test for system message\")\n",
    "chat_messages.append_user_message(\"Test for user message\")\n",
    "chat_messages.append_assistant_message(\"Test for assistant message\")\n",
    "chat_messages.get_messages()"
   ]
  },
  {
   "cell_type": "markdown",
   "id": "f303ba13",
   "metadata": {},
   "source": [
    "## Testing the Chat Methods\n",
    "\n",
    "Let's call the `prompt_llama2`-method first:"
   ]
  },
  {
   "cell_type": "code",
   "execution_count": 6,
   "id": "cb872f3a",
   "metadata": {},
   "outputs": [
    {
     "data": {
      "text/markdown": [
       "<span style='font-size: 16px;'>  Sure! Here are the names of the planets in our solar system, listed in order from closest to farthest from the Sun:\n",
       "\n",
       "1. Mercury\n",
       "2. Venus\n",
       "3. Earth\n",
       "4. Mars\n",
       "5. Jupiter\n",
       "6. Saturn\n",
       "7. Uranus\n",
       "8. Neptune</span>"
      ],
      "text/plain": [
       "<IPython.core.display.Markdown object>"
      ]
     },
     "metadata": {},
     "output_type": "display_data"
    }
   ],
   "source": [
    "# hide\n",
    "\n",
    "chat = Llama2ChatVersion2(llm, \"Answer in a very concise and accurate way\")\n",
    "chat.prompt_llama2(\"Name the planets in the solar system\")"
   ]
  },
  {
   "cell_type": "markdown",
   "id": "edec97ca",
   "metadata": {},
   "source": [
    "Here is the same thing with streaming:"
   ]
  },
  {
   "cell_type": "code",
   "execution_count": 7,
   "id": "3895ba04",
   "metadata": {},
   "outputs": [
    {
     "data": {
      "text/markdown": [
       "<span style='font-size: 16px;'>  Sure! Here are the 8 planets in our solar system, listed in order from closest to farthest from the Sun:\n",
       "\n",
       "1. Mercury\n",
       "2. Venus\n",
       "3. Earth\n",
       "4. Mars\n",
       "5. Jupiter\n",
       "6. Saturn\n",
       "7. Uranus\n",
       "8. Neptune</span>"
      ],
      "text/plain": [
       "<IPython.core.display.Markdown object>"
      ]
     },
     "metadata": {},
     "output_type": "display_data"
    }
   ],
   "source": [
    "chat = Llama2ChatVersion2(llm, \"Answer in a very concise and accurate way\")\n",
    "chat.prompt_llama2_stream(\"Name the planets in the solar system\")"
   ]
  },
  {
   "cell_type": "markdown",
   "id": "ac2bc104",
   "metadata": {},
   "source": [
    "## Conclusion\n",
    "\n",
    "We have successfully reused the notebook chat without copy&pasting any code. 😀"
   ]
  }
 ],
 "metadata": {
  "kernelspec": {
   "display_name": "Python 3 (ipykernel)",
   "language": "python",
   "name": "python3"
  },
  "language_info": {
   "codemirror_mode": {
    "name": "ipython",
    "version": 3
   },
   "file_extension": ".py",
   "mimetype": "text/x-python",
   "name": "python",
   "nbconvert_exporter": "python",
   "pygments_lexer": "ipython3",
   "version": "3.10.12"
  }
 },
 "nbformat": 4,
 "nbformat_minor": 5
}
